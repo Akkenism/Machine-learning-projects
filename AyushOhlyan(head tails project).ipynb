{
 "cells": [
  {
   "cell_type": "markdown",
   "metadata": {},
   "source": [
    "# AyushOhlyan"
   ]
  },
  {
   "cell_type": "code",
   "execution_count": 17,
   "metadata": {},
   "outputs": [],
   "source": [
    "#importing liberaries\n",
    "\n",
    "import pandas as pd  \n",
    "import scipy.stats as st"
   ]
  },
  {
   "cell_type": "markdown",
   "metadata": {},
   "source": [
    "# 1. Load The Data"
   ]
  },
  {
   "cell_type": "code",
   "execution_count": 18,
   "metadata": {},
   "outputs": [
    {
     "data": {
      "text/html": [
       "<div>\n",
       "<style scoped>\n",
       "    .dataframe tbody tr th:only-of-type {\n",
       "        vertical-align: middle;\n",
       "    }\n",
       "\n",
       "    .dataframe tbody tr th {\n",
       "        vertical-align: top;\n",
       "    }\n",
       "\n",
       "    .dataframe thead th {\n",
       "        text-align: right;\n",
       "    }\n",
       "</style>\n",
       "<table border=\"1\" class=\"dataframe\">\n",
       "  <thead>\n",
       "    <tr style=\"text-align: right;\">\n",
       "      <th></th>\n",
       "      <th>Catalyst1</th>\n",
       "      <th>Catalyst2</th>\n",
       "    </tr>\n",
       "  </thead>\n",
       "  <tbody>\n",
       "    <tr>\n",
       "      <th>0</th>\n",
       "      <td>91.50</td>\n",
       "      <td>89.19</td>\n",
       "    </tr>\n",
       "    <tr>\n",
       "      <th>1</th>\n",
       "      <td>94.18</td>\n",
       "      <td>90.95</td>\n",
       "    </tr>\n",
       "    <tr>\n",
       "      <th>2</th>\n",
       "      <td>92.18</td>\n",
       "      <td>90.46</td>\n",
       "    </tr>\n",
       "    <tr>\n",
       "      <th>3</th>\n",
       "      <td>95.39</td>\n",
       "      <td>93.21</td>\n",
       "    </tr>\n",
       "    <tr>\n",
       "      <th>4</th>\n",
       "      <td>91.79</td>\n",
       "      <td>97.19</td>\n",
       "    </tr>\n",
       "    <tr>\n",
       "      <th>5</th>\n",
       "      <td>89.07</td>\n",
       "      <td>97.04</td>\n",
       "    </tr>\n",
       "    <tr>\n",
       "      <th>6</th>\n",
       "      <td>94.72</td>\n",
       "      <td>91.07</td>\n",
       "    </tr>\n",
       "    <tr>\n",
       "      <th>7</th>\n",
       "      <td>89.21</td>\n",
       "      <td>92.75</td>\n",
       "    </tr>\n",
       "  </tbody>\n",
       "</table>\n",
       "</div>"
      ],
      "text/plain": [
       "   Catalyst1  Catalyst2\n",
       "0      91.50      89.19\n",
       "1      94.18      90.95\n",
       "2      92.18      90.46\n",
       "3      95.39      93.21\n",
       "4      91.79      97.19\n",
       "5      89.07      97.04\n",
       "6      94.72      91.07\n",
       "7      89.21      92.75"
      ]
     },
     "execution_count": 18,
     "metadata": {},
     "output_type": "execute_result"
    }
   ],
   "source": [
    "df = pd.read_csv(r'C:\\Users\\ayush\\Downloads\\catalyst.csv')\n",
    "df"
   ]
  },
  {
   "cell_type": "markdown",
   "metadata": {},
   "source": [
    "# 2. Print head and tail"
   ]
  },
  {
   "cell_type": "code",
   "execution_count": 19,
   "metadata": {},
   "outputs": [
    {
     "name": "stdout",
     "output_type": "stream",
     "text": [
      "\n",
      "Top 5 columns\n",
      "\n",
      "    Catalyst1  Catalyst2\n",
      "0      91.50      89.19\n",
      "1      94.18      90.95\n",
      "2      92.18      90.46\n",
      "3      95.39      93.21\n",
      "4      91.79      97.19\n",
      "\n",
      "Last 5 columns\n",
      "    Catalyst1  Catalyst2\n",
      "3      95.39      93.21\n",
      "4      91.79      97.19\n",
      "5      89.07      97.04\n",
      "6      94.72      91.07\n",
      "7      89.21      92.75\n"
     ]
    }
   ],
   "source": [
    "# print head and tail of the data\n",
    "print(\"\\nTop 5 columns\\n\\n\",df.head())\n",
    "print(\"\\nLast 5 columns\\n\",df.tail())"
   ]
  },
  {
   "cell_type": "markdown",
   "metadata": {},
   "source": [
    "# 2. Calculate the sample mean and sample standard deviation for both the          catalyst"
   ]
  },
  {
   "cell_type": "code",
   "execution_count": 20,
   "metadata": {},
   "outputs": [
    {
     "name": "stdout",
     "output_type": "stream",
     "text": [
      "Mean and Standard deviation for 1st catalyst:- 92.25500000000001 & 2.385018718105646\n",
      "Mean and Standard deviation for 2nd catalyst:- 92.73249999999999 & 2.983453176629871\n"
     ]
    }
   ],
   "source": [
    "mu_1, std_1 = df['Catalyst1'].mean(), df['Catalyst1'].std()\n",
    "print('Mean and Standard deviation for 1st catalyst:-',mu_1,\"&\",std_1)\n",
    "mu_2, std_2 = df['Catalyst2'].mean(), df['Catalyst2'].std()\n",
    "print('Mean and Standard deviation for 2nd catalyst:-',mu_2,\"&\",std_2)"
   ]
  },
  {
   "cell_type": "markdown",
   "metadata": {},
   "source": [
    "# 3. The number of rows for each catalyst"
   ]
  },
  {
   "cell_type": "code",
   "execution_count": 21,
   "metadata": {},
   "outputs": [
    {
     "name": "stdout",
     "output_type": "stream",
     "text": [
      "No. of rows for each catalyst:- 8 , 8\n"
     ]
    }
   ],
   "source": [
    "n1, n2 = df['Catalyst1'].count(), df['Catalyst2'].count()\n",
    "print('No. of rows for each catalyst:-',n1,\",\",n2)"
   ]
  },
  {
   "cell_type": "markdown",
   "metadata": {},
   "source": [
    "# 4. Use the eight step hypothesis process:-"
   ]
  },
  {
   "cell_type": "markdown",
   "metadata": {},
   "source": [
    "1.The parameter of interest are mu1 and mu2, the mean process yield using catalyst 1 and 2 respectively. We want to know if mu1-mu2=0. \n",
    "\n",
    "2.Null Hypothesis Ho: mu1-mu2=0 or Ho: mu1=mu2.\n",
    "\n",
    "3.Alternative Hypothesis H(alpha): mu1!=mu2.\n",
    "\n",
    "4.alpha=0.05.\n",
    "\n",
    "5.The test statistic is: to=[bar(x1)-bar(x2)-0]/Sp*sqrt(1/n1 + 1/n2)\n",
    "\n",
    "6.Reject Ho if to>t(0.025,14)=2.145 or if to<-t(0.025,14)=-2.145"
   ]
  },
  {
   "cell_type": "code",
   "execution_count": 22,
   "metadata": {},
   "outputs": [
    {
     "data": {
      "text/plain": [
       "2.1447866879169273"
      ]
     },
     "execution_count": 22,
     "metadata": {},
     "output_type": "execute_result"
    }
   ],
   "source": [
    "st.t.ppf(1.95/2,14)"
   ]
  },
  {
   "cell_type": "markdown",
   "metadata": {},
   "source": [
    "7.Computation: we have bar(x1)=92.55,s1=2.39,n1=8,bar(x2)=92.733,s2=2.98,n2=8.\n",
    "\n",
    "Then we find: s^(2)p=7.30 and sp=2.70 \n",
    "\n",
    "With the help of fifth step we find 'to' which is equal to -0.35\n"
   ]
  },
  {
   "cell_type": "markdown",
   "metadata": {},
   "source": [
    "8.Conclusions: Since -2.145<to = -0.35>2.145, the null hypothesis cannot be rejected. That is at the 0.05 significance level, we do not have strong evidence to conclude that catalyst 2 results in a mean yield that differs from the mean yield when catalyst 1 is used.\n",
    "\n",
    "Alternatively, we can use scipy.stats, a submodule of scipy"
   ]
  },
  {
   "cell_type": "code",
   "execution_count": 23,
   "metadata": {},
   "outputs": [
    {
     "data": {
      "text/plain": [
       "Ttest_indResult(statistic=-0.3535908643461798, pvalue=0.7289136186068217)"
      ]
     },
     "execution_count": 23,
     "metadata": {},
     "output_type": "execute_result"
    }
   ],
   "source": [
    "st.ttest_ind(df['Catalyst1'],df['Catalyst2'])"
   ]
  },
  {
   "cell_type": "markdown",
   "metadata": {},
   "source": [
    "The method returns the t statistic and p value."
   ]
  },
  {
   "cell_type": "markdown",
   "metadata": {},
   "source": [
    "# SUMMARY:-"
   ]
  },
  {
   "cell_type": "markdown",
   "metadata": {},
   "source": [
    ":- First of all we load the data then, we print the head and tail of the data.\n",
    "\n",
    ":- After, that we calculate the sample mean and sample standard deviation for both the catalyst.\n",
    "   \n",
    "    :- The mean and standard deviation for 1st catalyst is 92.25500000000001 and 2.385018718105646 respectively.\n",
    "       \n",
    "       :- The mean and standard deviation for 2nd catalyst is 92.73249999999999 and 2.983453176629871 respectively.\n",
    "       \n",
    ":- Then, we find out the number of rows for each catalyst which is (8,8)\n",
    "\n",
    ":- Then, we use the eight hypothesis process:-\n",
    "    \n",
    "      :- In this we want to know mu1-mu2=0 or not, then we check null hypothesis then alternative hypothesis after that, we          compute and we find the conclusions."
   ]
  },
  {
   "cell_type": "markdown",
   "metadata": {},
   "source": [
    "# END OF THE PROJECT "
   ]
  },
  {
   "cell_type": "markdown",
   "metadata": {},
   "source": [
    "# THANK YOU"
   ]
  }
 ],
 "metadata": {
  "kernelspec": {
   "display_name": "Python 3",
   "language": "python",
   "name": "python3"
  },
  "language_info": {
   "codemirror_mode": {
    "name": "ipython",
    "version": 3
   },
   "file_extension": ".py",
   "mimetype": "text/x-python",
   "name": "python",
   "nbconvert_exporter": "python",
   "pygments_lexer": "ipython3",
   "version": "3.8.3"
  }
 },
 "nbformat": 4,
 "nbformat_minor": 4
}
